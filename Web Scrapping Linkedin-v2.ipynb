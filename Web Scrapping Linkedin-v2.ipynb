{
 "cells": [
  {
   "cell_type": "code",
   "execution_count": 1,
   "id": "e5f2375d",
   "metadata": {
    "scrolled": true
   },
   "outputs": [
    {
     "name": "stdout",
     "output_type": "stream",
     "text": [
      "Importing package is finished\n"
     ]
    }
   ],
   "source": [
    "#import libraries\n",
    "from selenium import webdriver\n",
    "from selenium.webdriver.common.keys import Keys\n",
    "from time import sleep\n",
    "from bs4 import BeautifulSoup\n",
    "import csv\n",
    "print ('Importing package is finished' )"
   ]
  },
  {
   "cell_type": "code",
   "execution_count": 2,
   "id": "d05ab032",
   "metadata": {},
   "outputs": [],
   "source": [
    "credential = open('login_credential.txt')\n",
    "line= credential.readlines()\n",
    "username=line[0]\n",
    "password=line[1]"
   ]
  },
  {
   "cell_type": "code",
   "execution_count": 3,
   "id": "c98e6756",
   "metadata": {
    "scrolled": true
   },
   "outputs": [
    {
     "name": "stderr",
     "output_type": "stream",
     "text": [
      "C:\\Users\\Gaows\\AppData\\Local\\Temp/ipykernel_5340/458346140.py:12: DeprecationWarning: find_element_by_* commands are deprecated. Please use find_element() instead\n",
      "  email_field= driver.find_element_by_id('username')\n",
      "C:\\Users\\Gaows\\AppData\\Local\\Temp/ipykernel_5340/458346140.py:18: DeprecationWarning: find_element_by_name is deprecated. Please use find_element(by=By.NAME, value=name) instead\n",
      "  password_field= driver.find_element_by_name('session_password')\n",
      "C:\\Users\\Gaows\\AppData\\Local\\Temp/ipykernel_5340/458346140.py:23: DeprecationWarning: find_element_by_xpath is deprecated. Please use find_element(by=By.XPATH, value=xpath) instead\n",
      "  login_field= driver.find_element_by_xpath('//*[@id=\"organic-div\"]/form/div[3]/button')\n"
     ]
    }
   ],
   "source": [
    "#login to linked in\n",
    "\n",
    "##open chrome and go to linked in\n",
    "\n",
    "driver=webdriver.Chrome()\n",
    "url= 'https://www.linkedin.com/login'\n",
    "driver.get(url)\n",
    "sleep(2)\n",
    "\n",
    "##giving user name\n",
    "\n",
    "email_field= driver.find_element_by_id('username')\n",
    "email_field.send_keys(username)\n",
    "sleep(3)\n",
    "\n",
    "##Giving password\n",
    "\n",
    "password_field= driver.find_element_by_name('session_password')\n",
    "password_field.send_keys(password)\n",
    "sleep(3)\n",
    "\n",
    "##clicking password\n",
    "login_field= driver.find_element_by_xpath('//*[@id=\"organic-div\"]/form/div[3]/button')\n",
    "login_field.click()\n",
    "sleep(2)"
   ]
  },
  {
   "cell_type": "code",
   "execution_count": 23,
   "id": "4840c25a",
   "metadata": {},
   "outputs": [
    {
     "name": "stderr",
     "output_type": "stream",
     "text": [
      "C:\\Users\\Gaows\\AppData\\Local\\Temp/ipykernel_5340/2639685466.py:4: DeprecationWarning: find_element_by_xpath is deprecated. Please use find_element(by=By.XPATH, value=xpath) instead\n",
      "  search_field = driver.find_element_by_xpath('//*[@id=\"global-nav-typeahead\"]/input')\n"
     ]
    },
    {
     "name": "stdout",
     "output_type": "stream",
     "text": [
      "Searching Completed\n"
     ]
    },
    {
     "name": "stderr",
     "output_type": "stream",
     "text": [
      "C:\\Users\\Gaows\\AppData\\Local\\Temp/ipykernel_5340/2639685466.py:17: DeprecationWarning: find_element_by_xpath is deprecated. Please use find_element(by=By.XPATH, value=xpath) instead\n",
      "  people_field = driver.find_element_by_xpath('//*[@id=\"search-reusables__filters-bar\"]/ul/li[3]/button')\n"
     ]
    }
   ],
   "source": [
    "#search profile\n",
    "\n",
    "#locate the search button\n",
    "search_field = driver.find_element_by_xpath('//*[@id=\"global-nav-typeahead\"]/input')\n",
    "sleep(2)\n",
    "#Search the individual with the expected job post\n",
    "#search_query = input('Type your job post name : ')\n",
    "search_field.send_keys('Software Engineer')\n",
    "\n",
    "#search\n",
    "\n",
    "search_field.send_keys(Keys.RETURN)\n",
    "sleep(2)\n",
    "print('Searching Completed')\n",
    "\n",
    "#select people\n",
    "people_field = driver.find_element_by_xpath('//*[@id=\"search-reusables__filters-bar\"]/ul/li[3]/button')\n",
    "people_field.click()"
   ]
  },
  {
   "cell_type": "code",
   "execution_count": 24,
   "id": "17c6dcbd",
   "metadata": {},
   "outputs": [
    {
     "name": "stdout",
     "output_type": "stream",
     "text": [
      "[]\n"
     ]
    }
   ],
   "source": [
    "#Scrape urls of the profiles\n",
    "def GetURL():\n",
    "    \n",
    "    #collecting proflie form html page sorurce by calling the class name\n",
    "    page_source = BeautifulSoup(driver.page_source)\n",
    "    profiles=page_source.find_all('a',class_='app-aware-link')\n",
    "\n",
    "    #collecting container\n",
    "    allprofile_URL =[]\n",
    "    #print(allprofile_URL)\n",
    "\n",
    "    #loop for finding the profiles frome the 'profiles' variable\n",
    "    for profile in profiles:\n",
    "        profile_URL = profile.get('href')\n",
    "        if profile_URL not in allprofile_URL:\n",
    "            allprofile_URL.append(profile_URL)\n",
    "    return(allprofile_URL)\n",
    "print(GetURL())"
   ]
  },
  {
   "cell_type": "code",
   "execution_count": null,
   "id": "5cd6e2da",
   "metadata": {
    "scrolled": true
   },
   "outputs": [],
   "source": []
  },
  {
   "cell_type": "code",
   "execution_count": 25,
   "id": "64d6a5e5",
   "metadata": {
    "scrolled": false
   },
   "outputs": [
    {
     "name": "stdout",
     "output_type": "stream",
     "text": [
      "How many pages you want to scrape:2\n"
     ]
    },
    {
     "name": "stderr",
     "output_type": "stream",
     "text": [
      "C:\\Users\\Gaows\\AppData\\Local\\Temp/ipykernel_5340/3302387770.py:11: DeprecationWarning: find_element_by_class_name is deprecated. Please use find_element(by=By.CLASS_NAME, value=name) instead\n",
      "  next_button= driver.find_element_by_class_name('artdeco-pagination__button--next')\n"
     ]
    },
    {
     "name": "stdout",
     "output_type": "stream",
     "text": [
      "['https://www.linkedin.com/in/rezwan502?miniProfileUrn=urn%3Ali%3Afs_miniProfile%3AACoAACNFvekBjXQgRAqD6m_1MhNIacP2tz3NSrQ', 'https://www.linkedin.com/in/ACoAAAhxHrQBrySpc9lt_jUoFAbRski_iYP6Cr0?miniProfileUrn=urn%3Ali%3Afs_miniProfile%3AACoAAAhxHrQBrySpc9lt_jUoFAbRski_iYP6Cr0', 'https://www.linkedin.com/in/ACoAABYmri0BzchhIB3NncMI4PPYDlJgxt163Rc?miniProfileUrn=urn%3Ali%3Afs_miniProfile%3AACoAABYmri0BzchhIB3NncMI4PPYDlJgxt163Rc', 'https://www.linkedin.com/search/results/people/?facetNetwork=%5B%22F%22%5D&facetConnectionOf=%5B%22ACoAACNFvekBjXQgRAqD6m_1MhNIacP2tz3NSrQ%22%5D&origin=SHARED_CONNECTIONS_CANNED_SEARCH', 'https://www.linkedin.com/in/shahidul-brur?miniProfileUrn=urn%3Ali%3Afs_miniProfile%3AACoAABeXrJcB8bYwhECd36wxVY-NwP5c6g-p8gg', 'https://www.linkedin.com/in/ACoAACnTJisBNkEta5IriHzODllptPGTMYfs_IE?miniProfileUrn=urn%3Ali%3Afs_miniProfile%3AACoAACnTJisBNkEta5IriHzODllptPGTMYfs_IE', 'https://www.linkedin.com/in/ahsan-habib-43421b125?miniProfileUrn=urn%3Ali%3Afs_miniProfile%3AACoAAB7ShagBuZaEO6xQYjJ0TM_fKbZDl-rODkE', 'https://www.linkedin.com/in/ACoAABu5f0oB6Dl11uYUYwgstRYxYJMqWnSsszQ?miniProfileUrn=urn%3Ali%3Afs_miniProfile%3AACoAABu5f0oB6Dl11uYUYwgstRYxYJMqWnSsszQ', 'https://www.linkedin.com/in/ACoAACtyyu8BUapC09h0lP68K5DSk3Iemo98I-Q?miniProfileUrn=urn%3Ali%3Afs_miniProfile%3AACoAACtyyu8BUapC09h0lP68K5DSk3Iemo98I-Q', 'https://www.linkedin.com/in/debabrata-mondol-6299b5164?miniProfileUrn=urn%3Ali%3Afs_miniProfile%3AACoAACdNjEEBsJy5-rXZB8jmNLz05zd6oq0WyAI', 'https://www.linkedin.com/in/ACoAAAu4U4sBe-tgXsaRoe_cxWKolgJAR-_rNyU?miniProfileUrn=urn%3Ali%3Afs_miniProfile%3AACoAAAu4U4sBe-tgXsaRoe_cxWKolgJAR-_rNyU', 'https://www.linkedin.com/in/ACoAABYiveMBxwiaUh_3oC-0vyVwJ3_3wQME_q8?miniProfileUrn=urn%3Ali%3Afs_miniProfile%3AACoAABYiveMBxwiaUh_3oC-0vyVwJ3_3wQME_q8', 'https://www.linkedin.com/search/results/people/?facetNetwork=%5B%22F%22%5D&facetConnectionOf=%5B%22ACoAACdNjEEBsJy5-rXZB8jmNLz05zd6oq0WyAI%22%5D&origin=SHARED_CONNECTIONS_CANNED_SEARCH', 'https://www.linkedin.com/in/aminulcseaust?miniProfileUrn=urn%3Ali%3Afs_miniProfile%3AACoAAAWUcF4B_KpQO1UJPjoOvDKRZ-Bhubt1A_w', 'https://www.linkedin.com/in/ACoAAAHw1HcB55Urf_GBxCc3iF0I61x9YGqyIjY?miniProfileUrn=urn%3Ali%3Afs_miniProfile%3AACoAAAHw1HcB55Urf_GBxCc3iF0I61x9YGqyIjY', 'https://www.linkedin.com/in/ACoAAAVVguABf5WTTE1gZ_4QOu_hL2XGMNIvqm4?miniProfileUrn=urn%3Ali%3Afs_miniProfile%3AACoAAAVVguABf5WTTE1gZ_4QOu_hL2XGMNIvqm4', 'https://www.linkedin.com/search/results/people/?facetNetwork=%5B%22F%22%5D&facetConnectionOf=%5B%22ACoAAAWUcF4B_KpQO1UJPjoOvDKRZ-Bhubt1A_w%22%5D&origin=SHARED_CONNECTIONS_CANNED_SEARCH', 'https://www.linkedin.com/in/arafat-turjoy-a07055112?miniProfileUrn=urn%3Ali%3Afs_miniProfile%3AACoAABwgnGcBuRV-1_J1GXc6gHJtPiqygEkjr9M', 'https://www.linkedin.com/in/ACoAAACGYxYBPz1Y6kFzWTRc9XqwLcCq4lqPoH4?miniProfileUrn=urn%3Ali%3Afs_miniProfile%3AACoAAACGYxYBPz1Y6kFzWTRc9XqwLcCq4lqPoH4', 'https://www.linkedin.com/in/ACoAAAaupdQBJekSjxpQ1F3ApGce9k-UklBAlEI?miniProfileUrn=urn%3Ali%3Afs_miniProfile%3AACoAAAaupdQBJekSjxpQ1F3ApGce9k-UklBAlEI', 'https://www.linkedin.com/search/results/people/?facetNetwork=%5B%22F%22%5D&facetConnectionOf=%5B%22ACoAABwgnGcBuRV-1_J1GXc6gHJtPiqygEkjr9M%22%5D&origin=SHARED_CONNECTIONS_CANNED_SEARCH', 'https://www.linkedin.com/in/shaker-ibna-kamal?miniProfileUrn=urn%3Ali%3Afs_miniProfile%3AACoAABs866EB9QBqoVL9NG2dvZi0eQvdnU3sNcs', 'https://www.linkedin.com/in/ACoAAB3woTgBgugIR2DYLvMbz6j1rnUGa4M_824?miniProfileUrn=urn%3Ali%3Afs_miniProfile%3AACoAAB3woTgBgugIR2DYLvMbz6j1rnUGa4M_824', 'https://www.linkedin.com/in/ACoAACDNapkB0voqw0aOq9ye08ebYw0b8yeTlZ8?miniProfileUrn=urn%3Ali%3Afs_miniProfile%3AACoAACDNapkB0voqw0aOq9ye08ebYw0b8yeTlZ8', 'https://www.linkedin.com/search/results/people/?facetNetwork=%5B%22F%22%5D&facetConnectionOf=%5B%22ACoAABs866EB9QBqoVL9NG2dvZi0eQvdnU3sNcs%22%5D&origin=SHARED_CONNECTIONS_CANNED_SEARCH', 'https://www.linkedin.com/in/shamsul-islam-saadi?miniProfileUrn=urn%3Ali%3Afs_miniProfile%3AACoAACKoY0oBHAUIcn3rQUQ8Mapm_jvm63xtSA4', 'https://www.linkedin.com/in/ACoAABi15GgBpmQ1TcgG74wy9OEgPQ_GE2hLwVU?miniProfileUrn=urn%3Ali%3Afs_miniProfile%3AACoAABi15GgBpmQ1TcgG74wy9OEgPQ_GE2hLwVU', 'https://www.linkedin.com/in/tareqnmd?miniProfileUrn=urn%3Ali%3Afs_miniProfile%3AACoAABjGnMABTxPUktiBJGczNkKNVlPE51_s228', 'https://www.linkedin.com/in/ACoAAAqyLiYB79BN9GRZjU6A8hzSili7Webkbjo?miniProfileUrn=urn%3Ali%3Afs_miniProfile%3AACoAAAqyLiYB79BN9GRZjU6A8hzSili7Webkbjo', 'https://www.linkedin.com/search/results/people/?facetNetwork=%5B%22F%22%5D&facetConnectionOf=%5B%22ACoAABjGnMABTxPUktiBJGczNkKNVlPE51_s228%22%5D&origin=SHARED_CONNECTIONS_CANNED_SEARCH', 'https://www.linkedin.com/in/rahul-das-72bb00142?miniProfileUrn=urn%3Ali%3Afs_miniProfile%3AACoAACKw6BMB0v2MfxiejIlpJll1-yeFMkO58Hw', 'https://www.linkedin.com/in/ACoAACihv2cBKK7DiHZPZnAsLOujKrz_9EeIKd0?miniProfileUrn=urn%3Ali%3Afs_miniProfile%3AACoAACihv2cBKK7DiHZPZnAsLOujKrz_9EeIKd0', 'https://www.linkedin.com/in/cseshahriar?miniProfileUrn=urn%3Ali%3Afs_miniProfile%3AACoAACUE_FEB0xtXyeJkUpYVnYqx3oe46vLrb_I', 'https://www.linkedin.com/in/rashed-alam?miniProfileUrn=urn%3Ali%3Afs_miniProfile%3AACoAACkDfdEBpl4K5bW_iE2ASks_tOEy3iezs0s', 'https://www.linkedin.com/in/ACoAAAurmmQBQpsy5_ABruacidK9A_RQ7UIlRG8?miniProfileUrn=urn%3Ali%3Afs_miniProfile%3AACoAAAurmmQBQpsy5_ABruacidK9A_RQ7UIlRG8', 'https://www.linkedin.com/in/ACoAABGEhXUBcs_5PW9DLlld18WgjOe-qfILkrk?miniProfileUrn=urn%3Ali%3Afs_miniProfile%3AACoAABGEhXUBcs_5PW9DLlld18WgjOe-qfILkrk', 'https://www.linkedin.com/search/results/people/?facetNetwork=%5B%22F%22%5D&facetConnectionOf=%5B%22ACoAACkDfdEBpl4K5bW_iE2ASks_tOEy3iezs0s%22%5D&origin=SHARED_CONNECTIONS_CANNED_SEARCH', 'https://www.linkedin.com/in/rezaulhsagar?miniProfileUrn=urn%3Ali%3Afs_miniProfile%3AACoAACFpfwIBAE45cAvZma3OhsZHoLgVZpKmT9Y', 'https://www.linkedin.com/in/ACoAAAIReMoBA-xPv-1PFmksM4Tk0-ChEXMD9vI?miniProfileUrn=urn%3Ali%3Afs_miniProfile%3AACoAAAIReMoBA-xPv-1PFmksM4Tk0-ChEXMD9vI', 'https://www.linkedin.com/in/ACoAAAu4U4sBe-tgXsaRoe_cxWKolgJAR-_rNyU?miniProfileUrn=urn%3Ali%3Afs_miniProfile%3AACoAAAu4U4sBe-tgXsaRoe_cxWKolgJAR-_rNyU', 'https://www.linkedin.com/search/results/people/?facetNetwork=%5B%22F%22%5D&facetConnectionOf=%5B%22ACoAACFpfwIBAE45cAvZma3OhsZHoLgVZpKmT9Y%22%5D&origin=SHARED_CONNECTIONS_CANNED_SEARCH', 'https://www.linkedin.com/in/washim-akram-460026184?miniProfileUrn=urn%3Ali%3Afs_miniProfile%3AACoAACtuDQgBGnEu_TqT4pEdzKraFX2crqnyZMc', 'https://www.linkedin.com/in/ACoAADL-BwMBAX2vxP7YJYq1pvOhJSyteZ0xqMw?miniProfileUrn=urn%3Ali%3Afs_miniProfile%3AACoAADL-BwMBAX2vxP7YJYq1pvOhJSyteZ0xqMw', 'https://www.linkedin.com/in/minhaz-miraz-6473b1113?miniProfileUrn=urn%3Ali%3Afs_miniProfile%3AACoAABxbWVcBn72GtlNkzdCsbbJsssZnbqd7NuM', 'https://www.linkedin.com/in/ACoAABkPnoYBHFIEyDVENH5rZFUXjUhKT6Mp53M?miniProfileUrn=urn%3Ali%3Afs_miniProfile%3AACoAABkPnoYBHFIEyDVENH5rZFUXjUhKT6Mp53M', 'https://www.linkedin.com/in/ACoAAB3woTgBgugIR2DYLvMbz6j1rnUGa4M_824?miniProfileUrn=urn%3Ali%3Afs_miniProfile%3AACoAAB3woTgBgugIR2DYLvMbz6j1rnUGa4M_824', 'https://www.linkedin.com/search/results/people/?facetNetwork=%5B%22F%22%5D&facetConnectionOf=%5B%22ACoAABxbWVcBn72GtlNkzdCsbbJsssZnbqd7NuM%22%5D&origin=SHARED_CONNECTIONS_CANNED_SEARCH', 'https://www.linkedin.com/in/avik-chowdhury?miniProfileUrn=urn%3Ali%3Afs_miniProfile%3AACoAABGlEmkBJXuwNvz_08gPL4tPK3QN3ORfqEs', 'https://www.linkedin.com/in/ACoAAAqyLiYB79BN9GRZjU6A8hzSili7Webkbjo?miniProfileUrn=urn%3Ali%3Afs_miniProfile%3AACoAAAqyLiYB79BN9GRZjU6A8hzSili7Webkbjo', 'https://www.linkedin.com/search/results/people/?facetNetwork=%5B%22F%22%5D&facetConnectionOf=%5B%22ACoAABGlEmkBJXuwNvz_08gPL4tPK3QN3ORfqEs%22%5D&origin=SHARED_CONNECTIONS_CANNED_SEARCH', 'https://www.linkedin.com/in/shah-md-imran-hossain-785b5a117?miniProfileUrn=urn%3Ali%3Afs_miniProfile%3AACoAAB0uUNUBvdVjXoB9JoRE-cwWJSPB-D_Ytp8', 'https://www.linkedin.com/in/ACoAAAVVguABf5WTTE1gZ_4QOu_hL2XGMNIvqm4?miniProfileUrn=urn%3Ali%3Afs_miniProfile%3AACoAAAVVguABf5WTTE1gZ_4QOu_hL2XGMNIvqm4', 'https://www.linkedin.com/in/ACoAABsmH48B6pACoXxiOEmk-AtBmew8n2ANAu4?miniProfileUrn=urn%3Ali%3Afs_miniProfile%3AACoAABsmH48B6pACoXxiOEmk-AtBmew8n2ANAu4', 'https://www.linkedin.com/search/results/people/?facetNetwork=%5B%22F%22%5D&facetConnectionOf=%5B%22ACoAAB0uUNUBvdVjXoB9JoRE-cwWJSPB-D_Ytp8%22%5D&origin=SHARED_CONNECTIONS_CANNED_SEARCH', 'https://www.linkedin.com/in/tarek-bari-chowdhury-793874144?miniProfileUrn=urn%3Ali%3Afs_miniProfile%3AACoAACMC9l8BLyAlH86Yp1_mFSoDH4_KIGfvhgo', 'https://www.linkedin.com/in/ACoAAAfptyoBKhEmSKiXCHnp3bYxD1f40-_XVbc?miniProfileUrn=urn%3Ali%3Afs_miniProfile%3AACoAAAfptyoBKhEmSKiXCHnp3bYxD1f40-_XVbc', 'https://www.linkedin.com/in/ACoAACQWpOMBxDOXwGjpSNf5eGapbeF-kVlNigE?miniProfileUrn=urn%3Ali%3Afs_miniProfile%3AACoAACQWpOMBxDOXwGjpSNf5eGapbeF-kVlNigE', 'https://www.linkedin.com/search/results/people/?facetNetwork=%5B%22F%22%5D&facetConnectionOf=%5B%22ACoAACMC9l8BLyAlH86Yp1_mFSoDH4_KIGfvhgo%22%5D&origin=SHARED_CONNECTIONS_CANNED_SEARCH', 'https://www.linkedin.com/in/adibmehedi?miniProfileUrn=urn%3Ali%3Afs_miniProfile%3AACoAABjnPm8BoEkOvGsozBkqcgRiYEb58X6Yzfg', 'https://www.linkedin.com/in/ACoAAA___bkBNE4NqozuIe0QleZ5Tsk6cv1m4AQ?miniProfileUrn=urn%3Ali%3Afs_miniProfile%3AACoAAA___bkBNE4NqozuIe0QleZ5Tsk6cv1m4AQ', 'https://www.linkedin.com/in/golam-rahman-chowdhury-4353a8144?miniProfileUrn=urn%3Ali%3Afs_miniProfile%3AACoAACLxBmkBg1mIiKD-iSgiyU3P9jxALHVXbgc', 'https://www.linkedin.com/in/ACoAAAaupdQBJekSjxpQ1F3ApGce9k-UklBAlEI?miniProfileUrn=urn%3Ali%3Afs_miniProfile%3AACoAAAaupdQBJekSjxpQ1F3ApGce9k-UklBAlEI', 'https://www.linkedin.com/in/ACoAACRZoVkB8hVJ5vooZBQli4uo0f4Q3PumsGk?miniProfileUrn=urn%3Ali%3Afs_miniProfile%3AACoAACRZoVkB8hVJ5vooZBQli4uo0f4Q3PumsGk', 'https://www.linkedin.com/search/results/people/?facetNetwork=%5B%22F%22%5D&facetConnectionOf=%5B%22ACoAACLxBmkBg1mIiKD-iSgiyU3P9jxALHVXbgc%22%5D&origin=SHARED_CONNECTIONS_CANNED_SEARCH']\n"
     ]
    }
   ],
   "source": [
    "#going to the next page and collect the profiles\n",
    "def GetURLsonpages():\n",
    "   \n",
    "    input_page=int(input('How many pages you want to scrape:'))\n",
    "    URLs_all_page=[]\n",
    "    for page in range(input_page):\n",
    "        URLs_one_page=GetURL()\n",
    "        sleep(2)\n",
    "        driver.execute_script('window.scrollTo(0, document.body.scrollHeight)')\n",
    "        sleep(3)\n",
    "        next_button= driver.find_element_by_class_name('artdeco-pagination__button--next')\n",
    "        next_button.click()\n",
    "        URLs_all_page=URLs_all_page+URLs_one_page\n",
    "        sleep(2)\n",
    "    return URLs_all_page\n",
    "\n",
    "print(GetURLsonpages())\n"
   ]
  },
  {
   "cell_type": "code",
   "execution_count": 26,
   "id": "aaa0c367",
   "metadata": {
    "scrolled": true
   },
   "outputs": [
    {
     "name": "stdout",
     "output_type": "stream",
     "text": [
      "How many pages you want to scrape:1\n"
     ]
    },
    {
     "name": "stderr",
     "output_type": "stream",
     "text": [
      "C:\\Users\\Gaows\\AppData\\Local\\Temp/ipykernel_5340/3302387770.py:11: DeprecationWarning: find_element_by_class_name is deprecated. Please use find_element(by=By.CLASS_NAME, value=name) instead\n",
      "  next_button= driver.find_element_by_class_name('artdeco-pagination__button--next')\n"
     ]
    }
   ],
   "source": [
    "All_page=GetURLsonpages()"
   ]
  },
  {
   "cell_type": "markdown",
   "id": "5f8c590b",
   "metadata": {},
   "source": [
    "# All_page"
   ]
  },
  {
   "cell_type": "code",
   "execution_count": 41,
   "id": "8d94c790",
   "metadata": {
    "scrolled": true
   },
   "outputs": [
    {
     "name": "stdout",
     "output_type": "stream",
     "text": [
      "<div class=\"mt2 relative\">\n",
      "<div class=\"pv-text-details__left-panel\">\n",
      "<div>\n",
      "<h1 class=\"text-heading-xlarge inline t-24 v-align-middle break-words\">Talha Noyon</h1>\n",
      "<!-- --><!-- --><!-- --> <span class=\"distance-badge t-black--light t-14 t-black--light pv-text-details__separator text-body-small v-align-middle\">\n",
      "<span aria-label=\"2nd degree connection\" class=\"visually-hidden\">\n",
      "      2nd degree connection\n",
      "  </span>\n",
      "<span aria-hidden=\"true\" class=\"dist-value\">\n",
      "    2nd\n",
      "  </span>\n",
      "</span>\n",
      "</div>\n",
      "<!-- --> <div class=\"text-body-medium break-words\">\n",
      "      Software Engineer at Codeware Limited\n",
      "    </div>\n",
      "<!-- --> </div>\n",
      "<ul class=\"pv-text-details__right-panel\">\n",
      "<li class=\"pv-text-details__right-panel-item\">\n",
      "<a class=\"pv-text-details__right-panel-item-link link-without-hover-visited t-black\" href=\"#experience\">\n",
      "<img alt=\"\" class=\"ember-view pv-text-details__right-panel-item-text-image EntityPhoto-square-1\" id=\"ember74\" src=\"https://media-exp1.licdn.com/dms/image/C510BAQFqIvo_pcLyIw/company-logo_100_100/0/1585717218453?e=2147483647&amp;v=beta&amp;t=rJunu8w2NBOMnqARoc3g4ahUa6dPtNUdfMsihR4ZZHE\"/>\n",
      "<h2 class=\"pv-text-details__right-panel-item-text hoverable-link-text break-words text-body-small inline\">\n",
      "<div aria-label=\"Current company\" class=\"inline-show-more-text inline-show-more-text--is-collapsed inline-show-more-text--is-collapsed-with-line-clamp inline\" style=\"line-height:2rem;max-height:4rem;-webkit-line-clamp:2;\">\n",
      "\n",
      "    Codeware Limited\n",
      "  \n",
      "<!-- --></div>\n",
      "</h2>\n",
      "</a>\n",
      "</li>\n",
      "<li class=\"pv-text-details__right-panel-item\">\n",
      "<a class=\"pv-text-details__right-panel-item-link link-without-hover-visited t-black\" href=\"#education\">\n",
      "<img alt=\"\" class=\"ember-view pv-text-details__right-panel-item-text-image EntityPhoto-square-1\" id=\"ember75\" src=\"https://media-exp1.licdn.com/dms/image/C4D0BAQHsUPkPrj7dZQ/company-logo_100_100/0/1549809400044?e=2147483647&amp;v=beta&amp;t=o0Jl8DU8FjpxFo4X9QthyKR6zoscajeNeVvt6fRdeSc\"/>\n",
      "<h2 class=\"pv-text-details__right-panel-item-text hoverable-link-text break-words text-body-small inline\">\n",
      "<div aria-label=\"Education\" class=\"inline-show-more-text inline-show-more-text--is-collapsed inline-show-more-text--is-collapsed-with-line-clamp inline\" style=\"line-height:2rem;max-height:4rem;-webkit-line-clamp:2;\">\n",
      "\n",
      "    American International University-Bangladesh\n",
      "  \n",
      "<!-- --></div>\n",
      "</h2>\n",
      "</a>\n",
      "</li>\n",
      "</ul>\n",
      "<div class=\"pb2 pv-text-details__left-panel\">\n",
      "<span class=\"text-body-small inline t-black--light break-words\">\n",
      "      Bangladesh\n",
      "    </span>\n",
      "<span class=\"pv-text-details__separator t-black--light\">\n",
      "<a class=\"ember-view link-without-visited-state cursor-pointer text-heading-small inline-block break-words\" href=\"/in/talha-noyon/overlay/contact-info/\" id=\"top-card-text-details-contact-info\">\n",
      "          Contact info\n",
      "        </a>\n",
      "</span>\n",
      "</div>\n",
      "</div>\n",
      "Talha Noyon\n",
      "Bangladesh\n",
      "Codeware Limited\n",
      "American International University-Bangladesh\n"
     ]
    }
   ],
   "source": [
    "    driver.get(All_page[4])\n",
    "    page_source= BeautifulSoup(driver.page_source,\"html.parser\")\n",
    "    \n",
    "    info_div=page_source.find('div', class_ =\"mt2 relative\")\n",
    "    print(info_div)\n",
    "    info_loc=info_div.find_all('ul')\n",
    "    \n",
    "    com_ed_loc=info_loc[0].find_all('li')\n",
    "    company= com_ed_loc[0].get_text().strip()\n",
    "    education=com_ed_loc[1].get_text().strip()\n",
    "    \n",
    "    loc=info_div.find('span', class_=\"text-body-small inline t-black--light break-words\")\n",
    "    location=loc.get_text().strip()\n",
    "    name_loc=info_div.find('h1')\n",
    "    name=name_loc.get_text().strip()\n",
    "    print(name)\n",
    "    print(location)\n",
    "    print(company)\n",
    "    print(education)\n",
    "    "
   ]
  },
  {
   "cell_type": "code",
   "execution_count": 50,
   "id": "ea33aa05",
   "metadata": {},
   "outputs": [
    {
     "name": "stdout",
     "output_type": "stream",
     "text": [
      "Md. Rezve Hasan\n",
      "Dhaka, Bangladesh\n",
      "Education info N/A\n",
      "Software Engineer at Brain Station 23\n",
      "\n",
      "\n",
      "Ashikur Rahman\n",
      "Dhaka, Dhaka, Bangladesh\n",
      "American International University-Bangladesh\n",
      "React JS | Flutter | Laravel | Node JS\n",
      "\n",
      "\n",
      "Engr. A.T.M.Habibullah (Ashik)✔\n",
      "Bangladesh\n",
      "Daffodil International University-DIU\n",
      "Content Writer|SEO Expert|Digital Marketing & E-Commerce Specialist|Article Writer|Wordpress Developer|Blogger|Graphic Designer|Business Development Analyst|Entrepreneur|\n",
      "\n",
      "\n"
     ]
    },
    {
     "ename": "KeyboardInterrupt",
     "evalue": "",
     "output_type": "error",
     "traceback": [
      "\u001b[1;31m---------------------------------------------------------------------------\u001b[0m",
      "\u001b[1;31mKeyboardInterrupt\u001b[0m                         Traceback (most recent call last)",
      "\u001b[1;32m~\\AppData\\Local\\Temp/ipykernel_5340/3958458819.py\u001b[0m in \u001b[0;36m<module>\u001b[1;34m\u001b[0m\n\u001b[0;32m      4\u001b[0m \u001b[1;33m\u001b[0m\u001b[0m\n\u001b[0;32m      5\u001b[0m     \u001b[0minfo_div\u001b[0m\u001b[1;33m=\u001b[0m\u001b[0mpage_source\u001b[0m\u001b[1;33m.\u001b[0m\u001b[0mfind\u001b[0m\u001b[1;33m(\u001b[0m\u001b[1;34m'div'\u001b[0m\u001b[1;33m,\u001b[0m \u001b[0mclass_\u001b[0m\u001b[1;33m=\u001b[0m \u001b[1;34m\"mt2 relative\"\u001b[0m\u001b[1;33m)\u001b[0m\u001b[1;33m\u001b[0m\u001b[1;33m\u001b[0m\u001b[0m\n\u001b[1;32m----> 6\u001b[1;33m     \u001b[0msleep\u001b[0m\u001b[1;33m(\u001b[0m\u001b[1;36m4\u001b[0m\u001b[1;33m)\u001b[0m\u001b[1;33m\u001b[0m\u001b[1;33m\u001b[0m\u001b[0m\n\u001b[0m\u001b[0;32m      7\u001b[0m \u001b[1;33m\u001b[0m\u001b[0m\n\u001b[0;32m      8\u001b[0m     \u001b[1;31m#print(info_loc)\u001b[0m\u001b[1;33m\u001b[0m\u001b[1;33m\u001b[0m\u001b[1;33m\u001b[0m\u001b[0m\n",
      "\u001b[1;31mKeyboardInterrupt\u001b[0m: "
     ]
    }
   ],
   "source": [
    "for linkedin_URL in All_page:\n",
    "    driver.get(linkedin_URL)\n",
    "    page_source= BeautifulSoup(driver.page_source,\"html.parser\")\n",
    "    \n",
    "    info_div=page_source.find('div', class_= \"mt2 relative\")\n",
    "    sleep(4)\n",
    "    \n",
    "    #print(info_loc)\n",
    "    if not info_div:\n",
    "            continue\n",
    "    name_loc=info_div.find('h1')\n",
    "    name=name_loc.get_text().strip() \n",
    "    print(name)\n",
    "    \n",
    "    loc=info_div.find('span', class_=\"text-body-small inline t-black--light break-words\")\n",
    "    location=loc.get_text().strip()\n",
    "    print(location)\n",
    "    \n",
    "    ed=info_div.find('a',class_=\"pv-text-details__right-panel-item-link link-without-hover-visited t-black\", href=\"#education\")\n",
    "    \n",
    "    if not ed:\n",
    "            print(\"Education info N/A\")\n",
    "    else:\n",
    "        education=ed.get_text().strip()\n",
    "        print(education)\n",
    "    \n",
    "    com=info_div.find('div', class_=\"text-body-medium break-words\")\n",
    "    \n",
    "    \n",
    "    if not company:\n",
    "            Print(\"Company info N/A\")\n",
    "    else:\n",
    "        company= com.get_text().strip()\n",
    "        print(company)\n",
    "  \n",
    "    sleep(3)\n",
    "    print(linkedin_URL)\n",
    "    print('\\n')\n",
    "\n",
    "   \n"
   ]
  },
  {
   "cell_type": "code",
   "execution_count": 58,
   "id": "83df6dc4",
   "metadata": {},
   "outputs": [
    {
     "name": "stdout",
     "output_type": "stream",
     "text": [
      "Md. Rezve Hasan\n",
      "Dhaka, Bangladesh\n",
      "Education info N/A\n",
      "Software Engineer at Brain Station 23\n",
      "https://www.linkedin.com/in/rezve?miniProfileUrn=urn%3Ali%3Afs_miniProfile%3AACoAACAmqsgBqZaqjm3im1pSxoNTo3-6UIO4GPc\n",
      "\n",
      "\n",
      "Ashikur Rahman\n",
      "Dhaka, Dhaka, Bangladesh\n",
      "Education info N/A\n",
      "React JS | Flutter | Laravel | Node JS\n",
      "https://www.linkedin.com/in/ACoAACDNapkB0voqw0aOq9ye08ebYw0b8yeTlZ8?miniProfileUrn=urn%3Ali%3Afs_miniProfile%3AACoAACDNapkB0voqw0aOq9ye08ebYw0b8yeTlZ8\n",
      "\n",
      "\n",
      "Engr. A.T.M.Habibullah (Ashik)✔\n",
      "Bangladesh\n",
      "Education info N/A\n",
      "Content Writer|SEO Expert|Digital Marketing & E-Commerce Specialist|Article Writer|Wordpress Developer|Blogger|Graphic Designer|Business Development Analyst|Entrepreneur|\n",
      "https://www.linkedin.com/in/ACoAACRZoVkB8hVJ5vooZBQli4uo0f4Q3PumsGk?miniProfileUrn=urn%3Ali%3Afs_miniProfile%3AACoAACRZoVkB8hVJ5vooZBQli4uo0f4Q3PumsGk\n",
      "\n",
      "\n",
      "Talha Noyon\n",
      "Bangladesh\n",
      "Education info N/A\n",
      "Software Engineer at Codeware Limited\n",
      "https://www.linkedin.com/in/talha-noyon?miniProfileUrn=urn%3Ali%3Afs_miniProfile%3AACoAABm0yBkB0TnFSxG3IIYyhBNb8f4VGfYIM8Y\n",
      "\n",
      "\n",
      "Kazi Ahmed Asif (Pollen) Fuad\n",
      "Corvallis, Oregon, United States\n",
      "Education info N/A\n",
      "Graduate Research Assistant at Oregon State University; \n",
      "Assistant Professor, American International University-Bangladesh\n",
      "https://www.linkedin.com/in/ACoAAAqyLiYB79BN9GRZjU6A8hzSili7Webkbjo?miniProfileUrn=urn%3Ali%3Afs_miniProfile%3AACoAAAqyLiYB79BN9GRZjU6A8hzSili7Webkbjo\n",
      "\n",
      "\n",
      "JAYDEB GAIN\n",
      "New York, New York, United States\n",
      "National University of Bangladesh\n",
      "Financial Services Representative at Blue Ocean Wealth Solutions, A MassMutual Firm\n",
      "https://www.linkedin.com/in/ACoAAAu4U4sBe-tgXsaRoe_cxWKolgJAR-_rNyU?miniProfileUrn=urn%3Ali%3Afs_miniProfile%3AACoAAAu4U4sBe-tgXsaRoe_cxWKolgJAR-_rNyU\n",
      "\n",
      "\n",
      "Tonmoy Das\n",
      "Bangladesh\n",
      "Education info N/A\n",
      "Software Engineer at Linereflection LTD | PHP | Javascript | Node.Js | React.Js | Full-stack Developer\n",
      "https://www.linkedin.com/in/tonmoy-das-dev?miniProfileUrn=urn%3Ali%3Afs_miniProfile%3AACoAAA9I-XwBMCdyLyJKSy9EiMOSiEdwOUy1cI8\n",
      "\n",
      "\n",
      "M. Abdullah Al Mamun\n",
      "Bangladesh\n",
      "Rajshahi University, Bangladesh\n",
      "Senior Teacher of Aloron International School & College\n",
      "https://www.linkedin.com/in/ACoAAB6UjTMBKM6fArZ9gOSzCY-g2CrMOwWxbH0?miniProfileUrn=urn%3Ali%3Afs_miniProfile%3AACoAAB6UjTMBKM6fArZ9gOSzCY-g2CrMOwWxbH0\n",
      "\n",
      "\n",
      "Md. Maruf Rahman\n",
      "Bangladesh\n",
      "International Islamic University Chittagong\n",
      "Senior Software Engineer at Spring Rain Pvt Ltd\n",
      "https://www.linkedin.com/in/md-maruf-rahman-3966979a?miniProfileUrn=urn%3Ali%3Afs_miniProfile%3AACoAABUaMmIBrPmDRz4ZYYK4CG6qWGw9WsTSSLk\n",
      "\n",
      "\n",
      "Saifur Rahman\n",
      "Dhaka, Bangladesh\n",
      "Southeast University, Bangladesh\n",
      "Recruitment Operations Manager\n",
      "https://www.linkedin.com/in/ACoAAAurmmQBQpsy5_ABruacidK9A_RQ7UIlRG8?miniProfileUrn=urn%3Ali%3Afs_miniProfile%3AACoAAAurmmQBQpsy5_ABruacidK9A_RQ7UIlRG8\n",
      "\n",
      "\n",
      "Joshim Uddin\n",
      "Dhaka, Bangladesh\n",
      "Bangladesh University\n",
      "Software Engineer at Portonics Limited\n",
      "https://www.linkedin.com/in/joshimcse?miniProfileUrn=urn%3Ali%3Afs_miniProfile%3AACoAAB78VuABd4jrDwwOeAV4CQzRAeRkyiJF67k\n",
      "\n",
      "\n",
      "Mostofa Haider\n",
      "Dhaka, Bangladesh\n",
      "Education info N/A\n",
      "Chief Executive Officer at Honeymoon Tours & Travels\n",
      "https://www.linkedin.com/in/ACoAAA9Dk68Bt6tqk1ooDzUaTfc-DuVrgD8BV2E?miniProfileUrn=urn%3Ali%3Afs_miniProfile%3AACoAAA9Dk68Bt6tqk1ooDzUaTfc-DuVrgD8BV2E\n",
      "\n",
      "\n",
      "Md. Waliul Hasan\n",
      "Bangladesh\n",
      "Education info N/A\n",
      "Software Engineer at SELISE rockin' software\n",
      "https://www.linkedin.com/in/md-waliul-hasan-8ba479b0?miniProfileUrn=urn%3Ali%3Afs_miniProfile%3AACoAABeP6M4B0KAPd1B0ZhVUFDAfCLxgt8I8Nv4\n",
      "\n",
      "\n",
      "Md. Zobayer Mahmud Khan\n",
      "Narayanganj District, Dhaka, Bangladesh\n",
      "Stamford University Bangladesh\n",
      "Software Engineer | Angular | JavaScript | Go | GORM | MySQL | MongoDB\n",
      "https://www.linkedin.com/in/ACoAAAo2jzcB51iPRJbZ81YV1C7rTbKxm9xqNP4?miniProfileUrn=urn%3Ali%3Afs_miniProfile%3AACoAAAo2jzcB51iPRJbZ81YV1C7rTbKxm9xqNP4\n",
      "\n",
      "\n",
      "Surith Bhowmick\n",
      "Bangladesh\n",
      "Education info N/A\n",
      "BSC in Electrical and Electronic Engineering  at North South University\n",
      "https://www.linkedin.com/in/ACoAABi15GgBpmQ1TcgG74wy9OEgPQ_GE2hLwVU?miniProfileUrn=urn%3Ali%3Afs_miniProfile%3AACoAABi15GgBpmQ1TcgG74wy9OEgPQ_GE2hLwVU\n",
      "\n",
      "\n",
      "Abu Bakkar Siddik\n",
      "Dhaka, Dhaka, Bangladesh\n",
      "Education info N/A\n",
      "Software Engineer at Automation Services Limited\n",
      "https://www.linkedin.com/in/abu-bakkar-siddik-17b860196?miniProfileUrn=urn%3Ali%3Afs_miniProfile%3AACoAAC4LZu8BcxeNDHaCvesn2xyB_-3_VyshcNc\n",
      "\n",
      "\n",
      "fazly rabbi\n",
      "Bangladesh\n",
      "Education info N/A\n",
      "Team Manager at MazeGeek Inc.\n",
      "https://www.linkedin.com/in/ACoAAC2veTcBWtZfnpCg36ZzmR6hwGGNvT-th7M?miniProfileUrn=urn%3Ali%3Afs_miniProfile%3AACoAAC2veTcBWtZfnpCg36ZzmR6hwGGNvT-th7M\n",
      "\n",
      "\n",
      "Ittahad uz zaman Akash\n",
      "Bangladesh\n",
      "Education info N/A\n",
      "Software Engineer at SELISE Digital Platforms | .NET Core | C# | JavaScript | Node.js | MongoDB | RabbitMQ | CQRS | Flutter | Docker | Kubernetes\n",
      "https://www.linkedin.com/in/ittahad?miniProfileUrn=urn%3Ali%3Afs_miniProfile%3AACoAACitbBABVkSfJLuT6fs5k7E3w70MmhYz_ew\n",
      "\n",
      "\n",
      "HUMAYUN (KHAN) KABIR KHAN\n",
      "Bangladesh\n",
      "Govt.Tolaram College N.gong & Ju Dhaka\n",
      "Branch Manager MetLife(American Life insurance)\n",
      "https://www.linkedin.com/in/ACoAAAc5F1kB8zLRJfTUqEY__3DSWtVaGrhWppE?miniProfileUrn=urn%3Ali%3Afs_miniProfile%3AACoAAAc5F1kB8zLRJfTUqEY__3DSWtVaGrhWppE\n",
      "\n",
      "\n",
      "Md Iqbal Hafiz\n",
      "Dhaka, Bangladesh\n",
      "Education info N/A\n",
      "Software Engineer at Samsung R&D Institute Bangladesh\n",
      "https://www.linkedin.com/in/md-iqbal-hafiz-723959116?miniProfileUrn=urn%3Ali%3Afs_miniProfile%3AACoAABz5IcsBcwzLDd_PmMSff20BKsQXuodJ9WQ\n",
      "\n",
      "\n",
      "Md. Sabir Hossain\n",
      "Chattogram, Bangladesh\n",
      "Chittagong University of Engineering & Technology\n",
      "Faculty Member, Dept. of CSE, CUET; Editor, Sigma Journal of Engineering and Natural Sciences; National Mentor, Unibator Program\n",
      "https://www.linkedin.com/in/ACoAABGEhXUBcs_5PW9DLlld18WgjOe-qfILkrk?miniProfileUrn=urn%3Ali%3Afs_miniProfile%3AACoAABGEhXUBcs_5PW9DLlld18WgjOe-qfILkrk\n",
      "\n",
      "\n",
      "Zuhair Mehtab\n",
      "Bangladesh\n",
      "Education info N/A\n",
      "Software Engineer\n",
      "https://www.linkedin.com/in/zuhair-mehtab-2550bb8b?miniProfileUrn=urn%3Ali%3Afs_miniProfile%3AACoAABMO9qEBEpQ1KGPge6JKOtgaiRvCex7xSm0\n",
      "\n",
      "\n",
      "Techshop Bangladesh\n",
      "Dhaka, Bangladesh\n",
      "Education info N/A\n",
      "It's an online retail store in Bangladesh that sells electronic and robotics component needed for electronic project. We're very popular for who learn Electrical and Electronic Engineering & Embedded System.\n",
      "https://www.linkedin.com/in/ACoAABkPnoYBHFIEyDVENH5rZFUXjUhKT6Mp53M?miniProfileUrn=urn%3Ali%3Afs_miniProfile%3AACoAABkPnoYBHFIEyDVENH5rZFUXjUhKT6Mp53M\n",
      "\n",
      "\n"
     ]
    }
   ],
   "source": [
    "with open('output.csv','w', newline='',encoding=\"utf-8\") as file_output:\n",
    "    headers = ['Name', 'Location','Education','Jod Ttile','Linkedin URL']\n",
    "    writer = csv.DictWriter(file_output, delimiter=',',lineterminator='\\n',fieldnames=headers)\n",
    "    writer.writeheader()\n",
    "    \n",
    "    for linkedin_URL in All_page:\n",
    "        driver.get(linkedin_URL)\n",
    "        page_source= BeautifulSoup(driver.page_source,\"html.parser\")\n",
    "\n",
    "        info_div=page_source.find('div', class_= \"mt2 relative\")\n",
    "        sleep(4)\n",
    "\n",
    "        #print(info_loc)\n",
    "        if not info_div:\n",
    "                continue\n",
    "        name_loc=info_div.find('h1')\n",
    "        name=name_loc.get_text().strip() \n",
    "        print(name)\n",
    "\n",
    "        loc=info_div.find('span', class_=\"text-body-small inline t-black--light break-words\")\n",
    "        location=loc.get_text().strip()\n",
    "        print(location)\n",
    "\n",
    "        ed=info_div.find('a',class_=\"pv-text-details__right-panel-item-link link-without-hover-visited t-black\", href=\"#education\")\n",
    "\n",
    "        if not ed:\n",
    "                education=\"Education info N/A\"\n",
    "                print(education)\n",
    "        else:\n",
    "            education=ed.get_text().strip()\n",
    "            print(education)\n",
    "\n",
    "        com=info_div.find('div', class_=\"text-body-medium break-words\")\n",
    "\n",
    "\n",
    "        if not company:\n",
    "                Print(\"Company info N/A\")\n",
    "        else:\n",
    "            company= com.get_text().strip()\n",
    "            print(company)\n",
    "\n",
    "        sleep(3)\n",
    "        print(linkedin_URL)\n",
    "        writer.writerow({headers[0]:name,headers[1]:location,headers[2]:education,headers[3]:company,headers[4]:linkedin_URL})\n",
    "        print('\\n')"
   ]
  },
  {
   "cell_type": "code",
   "execution_count": null,
   "id": "f651c857",
   "metadata": {},
   "outputs": [],
   "source": []
  },
  {
   "cell_type": "code",
   "execution_count": null,
   "id": "0dca3157",
   "metadata": {},
   "outputs": [],
   "source": []
  },
  {
   "cell_type": "code",
   "execution_count": null,
   "id": "f5c43c32",
   "metadata": {},
   "outputs": [],
   "source": []
  },
  {
   "cell_type": "code",
   "execution_count": null,
   "id": "bdbb0ea7",
   "metadata": {},
   "outputs": [],
   "source": []
  },
  {
   "cell_type": "code",
   "execution_count": null,
   "id": "92b51c46",
   "metadata": {},
   "outputs": [],
   "source": []
  }
 ],
 "metadata": {
  "kernelspec": {
   "display_name": "Python 3 (ipykernel)",
   "language": "python",
   "name": "python3"
  },
  "language_info": {
   "codemirror_mode": {
    "name": "ipython",
    "version": 3
   },
   "file_extension": ".py",
   "mimetype": "text/x-python",
   "name": "python",
   "nbconvert_exporter": "python",
   "pygments_lexer": "ipython3",
   "version": "3.8.8"
  }
 },
 "nbformat": 4,
 "nbformat_minor": 5
}
